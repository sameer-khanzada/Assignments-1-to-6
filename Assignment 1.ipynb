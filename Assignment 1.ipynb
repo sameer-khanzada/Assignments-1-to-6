{
 "cells": [
  {
   "cell_type": "markdown",
   "metadata": {},
   "source": [
    "Q3: Write a python program that display the current date and time."
   ]
  },
  {
   "cell_type": "code",
   "execution_count": 1,
   "metadata": {},
   "outputs": [
    {
     "name": "stdout",
     "output_type": "stream",
     "text": [
      "('date and time =', '14/11/2019 and 20:10:03')\n"
     ]
    }
   ],
   "source": [
    "from datetime import datetime as dt\n",
    "now = dt.now()\n",
    "dt_string = now.strftime(\"%d/%m/%Y and %H:%M:%S\")\n",
    "print(\"date and time =\", dt_string)"
   ]
  },
  {
   "cell_type": "markdown",
   "metadata": {},
   "source": [
    "Q4: Write a python program which accepts the radius of a circle from the user and computer the area."
   ]
  },
  {
   "cell_type": "code",
   "execution_count": 3,
   "metadata": {},
   "outputs": [
    {
     "name": "stdout",
     "output_type": "stream",
     "text": [
      "enter radius:6\n",
      "113.112\n"
     ]
    }
   ],
   "source": [
    "radius = int(input(\"enter radius:\"))\n",
    "pie = 3.142\n",
    "area_of_circle = pie * (radius**2)\n",
    "print(area_of_circle)"
   ]
  },
  {
   "cell_type": "markdown",
   "metadata": {},
   "source": [
    "Q6: Write a python program which takes two input from user and print them addition"
   ]
  },
  {
   "cell_type": "code",
   "execution_count": 5,
   "metadata": {},
   "outputs": [
    {
     "name": "stdout",
     "output_type": "stream",
     "text": [
      "enter first number please: 55\n",
      "enter second number please: 65\n",
      "('the total summition of two numbers are:', 120)\n"
     ]
    }
   ],
   "source": [
    "first_num = int(input(\"enter first number please: \"))\n",
    "second_num = int(input(\"enter second number please: \"))\n",
    "sum_of_num = first_num+second_num\n",
    "a = \"the total summition of two numbers are:\",sum_of_num\n",
    "print(a)"
   ]
  },
  {
   "cell_type": "markdown",
   "metadata": {},
   "source": [
    "Q2: Write a python program to get the python version you are using."
   ]
  },
  {
   "cell_type": "code",
   "execution_count": 6,
   "metadata": {},
   "outputs": [
    {
     "name": "stdout",
     "output_type": "stream",
     "text": [
      "2.7.16\n"
     ]
    }
   ],
   "source": [
    "from platform import python_version\n",
    "print(python_version())\n",
    "\n"
   ]
  },
  {
   "cell_type": "markdown",
   "metadata": {},
   "source": [
    "Q1: write a python program to print the following string in a specific format(see the output)"
   ]
  },
  {
   "cell_type": "code",
   "execution_count": 7,
   "metadata": {},
   "outputs": [
    {
     "name": "stdout",
     "output_type": "stream",
     "text": [
      "Twinkle,  twinkle,  little star,\n",
      "    How i wonder what you are!\n",
      "          Up above the world so high,\n",
      "          Like a diamond in the sky.\n",
      "Twinkle,  twinkle,  little star,\n",
      "    How i wonder what you are!\n"
     ]
    }
   ],
   "source": [
    "first_line = (\"twinkle, twinkle, little star,\")\n",
    "second_line = (\"how I wonder what you are\")\n",
    "third_line = (\"up above the world so high\")\n",
    "fourth_line = (\"like a diamond in the sky\")\n",
    "print(first_line[:7].capitalize()+ \",\"+\" \"*2 +first_line[:7] + \",\"+ \" \"*2+first_line[18:29]+\",\")\n",
    "print(\" \"*4 +second_line.capitalize()+\"!\")\n",
    "print(\" \"*10 +third_line.capitalize()+\",\")\n",
    "print(\" \"*10 +fourth_line.capitalize()+\".\")\n",
    "print(first_line[:7].capitalize()+ \",\"+\" \"*2 +first_line[:7] + \",\"+ \" \"*2+first_line[18:29]+\",\")\n",
    "print(\" \"*4 +second_line.capitalize()+\"!\")"
   ]
  },
  {
   "cell_type": "markdown",
   "metadata": {},
   "source": [
    "5. Write a Python program which accepts the user's first and last name and\n",
    "print them in reverse order with a space between them."
   ]
  },
  {
   "cell_type": "code",
   "execution_count": 10,
   "metadata": {},
   "outputs": [
    {
     "name": "stdout",
     "output_type": "stream",
     "text": [
      "khan sameer\n"
     ]
    }
   ],
   "source": [
    "first_name = input(\"\")\n",
    "last_name = input(\"\")\n",
    "print(last_name,\" \",first_name)\n",
    "\n",
    "    \n",
    "\n"
   ]
  },
  {
   "cell_type": "code",
   "execution_count": null,
   "metadata": {},
   "outputs": [],
   "source": []
  },
  {
   "cell_type": "code",
   "execution_count": null,
   "metadata": {},
   "outputs": [],
   "source": []
  }
 ],
 "metadata": {
  "kernelspec": {
   "display_name": "Python 2",
   "language": "python",
   "name": "python2"
  },
  "language_info": {
   "codemirror_mode": {
    "name": "ipython",
    "version": 2
   },
   "file_extension": ".py",
   "mimetype": "text/x-python",
   "name": "python",
   "nbconvert_exporter": "python",
   "pygments_lexer": "ipython2",
   "version": "2.7.16"
  }
 },
 "nbformat": 4,
 "nbformat_minor": 2
}
