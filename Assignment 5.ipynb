{
 "cells": [
  {
   "cell_type": "markdown",
   "metadata": {},
   "source": [
    "Question:1\n",
    "\n",
    "Write a Python function to calculate the factorial of a number (a non-negative\n",
    "integer). The function accepts the number as an argument."
   ]
  },
  {
   "cell_type": "code",
   "execution_count": 1,
   "metadata": {},
   "outputs": [
    {
     "name": "stdout",
     "output_type": "stream",
     "text": [
      "enter number: 5\n"
     ]
    },
    {
     "data": {
      "text/plain": [
       "120"
      ]
     },
     "execution_count": 1,
     "metadata": {},
     "output_type": "execute_result"
    }
   ],
   "source": [
    "def factorial(n):\n",
    "    n = int(input(\"enter number: \"))\n",
    "    f =1\n",
    "    for i in range(1,n+1):\n",
    "        f = f * i\n",
    "    return f\n",
    "factorial(5)"
   ]
  },
  {
   "cell_type": "markdown",
   "metadata": {},
   "source": [
    "Question:2\n",
    "    \n",
    "Write a Python function that accepts a string and calculate the number of upper\n",
    "case letters and lower case letters."
   ]
  },
  {
   "cell_type": "code",
   "execution_count": 56,
   "metadata": {},
   "outputs": [
    {
     "name": "stdout",
     "output_type": "stream",
     "text": [
      "('orignal word is :', 'SAMeer khANzadA')\n",
      "('upper case counts is :', 6)\n",
      "('lower case counts is :', 8)\n"
     ]
    }
   ],
   "source": [
    "def str_name(name):\n",
    "    dic ={\"L_CASE\": 0 , \"U_CASE\": 0 }\n",
    "    for k in name:\n",
    "        if k.isupper():\n",
    "            dic[\"U_CASE\"] +=1\n",
    "        elif k.islower():\n",
    "            dic[\"L_CASE\"] +=1\n",
    "    print(\"orignal word is :\" , name)\n",
    "    print(\"upper case counts is :\" ,dic[\"U_CASE\"])\n",
    "    print(\"lower case counts is :\" ,dic[\"L_CASE\"])\n",
    "str_name(\"SAMeer khANzadA\")"
   ]
  },
  {
   "cell_type": "markdown",
   "metadata": {},
   "source": [
    "Question:3\n",
    "    \n",
    "Write a Python function to print the even numbers from a given list.\n"
   ]
  },
  {
   "cell_type": "code",
   "execution_count": 3,
   "metadata": {},
   "outputs": [
    {
     "name": "stdout",
     "output_type": "stream",
     "text": [
      "[4, 6, 8, 10]\n"
     ]
    }
   ],
   "source": [
    "\n",
    "def d(*lst):\n",
    "\n",
    "    even =[]\n",
    "    for i in lst:\n",
    "        if i%2 == 0:\n",
    "            even.append(i)\n",
    "    print(even)\n",
    "d(1,3,4,5,6,7,8,9,10,11)   "
   ]
  },
  {
   "cell_type": "markdown",
   "metadata": {},
   "source": [
    "Question:4\n",
    "    \n",
    "Write a Python function that checks whether a passed string is palindrome or not.\n",
    "Note: A palindrome is a word, phrase, or sequence that reads the same\n",
    "backward as forward, e.g., madam"
   ]
  },
  {
   "cell_type": "code",
   "execution_count": 47,
   "metadata": {},
   "outputs": [
    {
     "name": "stdout",
     "output_type": "stream",
     "text": [
      "its palindrome\n"
     ]
    },
    {
     "data": {
      "text/plain": [
       "'maham'"
      ]
     },
     "execution_count": 47,
     "metadata": {},
     "output_type": "execute_result"
    }
   ],
   "source": [
    "def name(word):\n",
    "    rev = word[::-1]\n",
    "    if word == rev:\n",
    "        print(\"its palindrome\")\n",
    "    else:\n",
    "        print(\"its not palindrome\")\n",
    "    return rev\n",
    "name(\"maham\")"
   ]
  },
  {
   "cell_type": "markdown",
   "metadata": {},
   "source": [
    "Question:5\n",
    "    \n",
    "Write a Python function that takes a number as a parameter and check the\n",
    "number is prime or not"
   ]
  },
  {
   "cell_type": "code",
   "execution_count": 5,
   "metadata": {},
   "outputs": [
    {
     "name": "stdout",
     "output_type": "stream",
     "text": [
      "its  a prime number\n"
     ]
    },
    {
     "data": {
      "text/plain": [
       "11"
      ]
     },
     "execution_count": 5,
     "metadata": {},
     "output_type": "execute_result"
    }
   ],
   "source": [
    "def number(n):\n",
    "    for i in range(2,n):\n",
    "        if n%i == 0:\n",
    "            print(\"its not prime number\")\n",
    "            break\n",
    "    else:\n",
    "        print(\"its  a prime number\")\n",
    "    return n\n",
    "number(11)"
   ]
  },
  {
   "cell_type": "markdown",
   "metadata": {},
   "source": [
    "Question: 6\n",
    "    \n",
    "Suppose a customer is shopping in a market and you need to print all the items\n",
    "which user bought from market.\n",
    "\n",
    "Write a function which accepts the multiple arguments of user shopping list and\n",
    "print all the items which user bought from market.\n",
    "\n",
    "(Hint: Arbitrary Argument concept can make this task ease)"
   ]
  },
  {
   "cell_type": "code",
   "execution_count": 41,
   "metadata": {},
   "outputs": [
    {
     "name": "stdout",
     "output_type": "stream",
     "text": [
      "{'orange': '90rs for 1dozen', 'strawberry': '70rs for 1kg', 'mango': '100rs for 1kg', 'banana': '20rs for 1dozen', 'apple': '80rs for 1kg'}\n",
      "{'tomato': '200rs for 1kg', 'onion': '15rs for 1kg', 'potato': '200rs for 1kg', 'radish': '40rs for 1kg', 'carrot': '20rs for 1kg', 'brinjal': '50rs for 1kg'}\n",
      "{'chlili_garlic': '50rs for 1pack', 'chili_sauce': '180rs for 1kg', 'red_pepper': '250rs for 1kg', 'flour': '50rs for 1kg', 'rice': '95rs for 1kg', 'ketchup': '20rs for 1pack'}\n",
      "{'chlili_garlic': '50rs for 1pack', 'chili_sauce': '180rs for 1kg', 'red_pepper': '250rs for 1kg', 'flour': '50rs for 1kg', 'rice': '95rs for 1kg', 'ketchup': '20rs for 1pack'}\n"
     ]
    }
   ],
   "source": [
    "def items_list(*names):\n",
    "    lst = [\"vegatables\",\"fruits\",\"G_store\",\"grocery\"]\n",
    "    vegatables = {\"carrot\": \"20rs for 1kg\", \"brinjal\":\"50rs for 1kg\",\"onion\":\"15rs for 1kg\",\"potato\":\"200rs for 1kg\",\n",
    "                      \"tomato\":\"200rs for 1kg\",\"radish\":\"40rs for 1kg\"}\n",
    "    \n",
    "    fruits = {\"banana\":\"20rs for 1dozen\",\"strawberry\":\"70rs for 1kg\",\"apple\":\"80rs for 1kg\",\"mango\":\"100rs for 1kg\",\n",
    "                  \"orange\":\"90rs for 1dozen\"}\n",
    "    G_store = {\"rice\":\"95rs for 1kg\",\"chili_sauce\":\"180rs for 1kg\",\"red_pepper\":\"250rs for 1kg\",\"ketchup\":\"20rs for 1pack\",\n",
    "                   \"chlili_garlic\":\"50rs for 1pack\",\"flour\":\"50rs for 1kg\"}\n",
    "    grocery = {\"Soda\":\"200rs for 1ltr\",\"Beer\":\"200rs for 1ltr\",\"Cereal\":\"400rs for 1kg\",\"Frozen dinners\":\"600rs for 1kg\",\n",
    "                   \"Salty snacks\":\"100rs for 1pack\"}\n",
    "    for i in names:\n",
    "        print(i)\n",
    "\n",
    "    if i== vegatables:\n",
    "        print(vegatables)\n",
    "    elif i== fruits:\n",
    "        print(fruits)\n",
    "    elif i== G_store:\n",
    "        print(G_store)\n",
    "    elif i== grocery:\n",
    "        print(grocery)\n",
    "    else:\n",
    "        print(\"sorry dear! this is not available right now\")\n",
    "items_list(fruits,vegatables,G_store)"
   ]
  },
  {
   "cell_type": "code",
   "execution_count": null,
   "metadata": {},
   "outputs": [],
   "source": []
  },
  {
   "cell_type": "code",
   "execution_count": null,
   "metadata": {},
   "outputs": [],
   "source": []
  }
 ],
 "metadata": {
  "kernelspec": {
   "display_name": "Python 2",
   "language": "python",
   "name": "python2"
  },
  "language_info": {
   "codemirror_mode": {
    "name": "ipython",
    "version": 2
   },
   "file_extension": ".py",
   "mimetype": "text/x-python",
   "name": "python",
   "nbconvert_exporter": "python",
   "pygments_lexer": "ipython2",
   "version": "2.7.16"
  }
 },
 "nbformat": 4,
 "nbformat_minor": 2
}
