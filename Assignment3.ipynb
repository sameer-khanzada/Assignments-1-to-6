{
 "cells": [
  {
   "cell_type": "markdown",
   "metadata": {},
   "source": [
    "1.Make a calculator using Python with addition , subtraction , multiplication ,\n",
    "division and power."
   ]
  },
  {
   "cell_type": "code",
   "execution_count": 1,
   "metadata": {},
   "outputs": [
    {
     "name": "stdout",
     "output_type": "stream",
     "text": [
      "enter first number5\n",
      "enter second number5\n",
      "\n",
      "\n",
      "\n",
      "\n",
      "press 1 to add the numbers\n",
      "press 2 to sub the numbers\n",
      "press 3 to multiplicaiton the numbers\n",
      "press 4 to divide the numbers\n",
      "press 5 to power the numbers\n",
      "\n",
      "\n",
      "\n",
      "\n",
      "OPERATOR5\n",
      "5\n",
      "\n",
      "\n",
      "\n",
      "\n",
      "ANSWER IS:\n",
      "3125\n"
     ]
    }
   ],
   "source": [
    "first_no = int(input(\"enter first number\"))\n",
    "second_no = int(input(\"enter second number\"))\n",
    "print(\"\\n\")\n",
    "print(\"\\n\")\n",
    "print(\"press 1 to add the numbers\")\n",
    "print(\"press 2 to sub the numbers\")\n",
    "print(\"press 3 to multiplicaiton the numbers\")\n",
    "print(\"press 4 to divide the numbers\")\n",
    "print(\"press 5 to power the numbers\")\n",
    "print(\"\\n\")\n",
    "print(\"\\n\")\n",
    "\n",
    "operator = int(input(\"OPERATOR\"))\n",
    "print(operator)\n",
    "print(\"\\n\")\n",
    "print(\"\\n\")\n",
    "print(\"ANSWER IS:\")\n",
    "if operator == 1:\n",
    "    print((first_no) + (second_no))\n",
    "elif operator == 2 :\n",
    "    print((first_no) - (second_no))\n",
    "elif operator == 3 :\n",
    "    print((first_no) * (second_no))\n",
    "elif operator == 4 :\n",
    "    print((first_no) / (second_no))\n",
    "elif operator == 5 :\n",
    "    print((first_no) ** (second_no))\n",
    "\n",
    "\n",
    "\n"
   ]
  },
  {
   "cell_type": "markdown",
   "metadata": {},
   "source": [
    "2.Write a program to check if there is any numeric value in list using for loop"
   ]
  },
  {
   "cell_type": "code",
   "execution_count": 2,
   "metadata": {},
   "outputs": [
    {
     "name": "stdout",
     "output_type": "stream",
     "text": [
      "its not numeric\n",
      "its numeric\n",
      "its numeric\n",
      "its not numeric\n"
     ]
    }
   ],
   "source": [
    "a = [\"s\",20,3,\"k\"]\n",
    "for i in a:\n",
    "    if type(i) == int:\n",
    "        print(\"its numeric\")\n",
    "    if type(i) == str:\n",
    "        print(\"its not numeric\")"
   ]
  },
  {
   "cell_type": "markdown",
   "metadata": {},
   "source": [
    "3.Write a Python script to add a key to a dictionary"
   ]
  },
  {
   "cell_type": "code",
   "execution_count": 3,
   "metadata": {},
   "outputs": [
    {
     "data": {
      "text/plain": [
       "{0: 'sameer', 1: 'khan'}"
      ]
     },
     "execution_count": 3,
     "metadata": {},
     "output_type": "execute_result"
    }
   ],
   "source": [
    "dic = {}\n",
    "dic[0] = \"sameer\"\n",
    "dic[1] = \"khan\"\n",
    "#print(dic[0])\n",
    "#print(dic[1])\n",
    "dic"
   ]
  },
  {
   "cell_type": "markdown",
   "metadata": {},
   "source": [
    "4.Write a Python program to sum all the numeric items in a dictionary"
   ]
  },
  {
   "cell_type": "code",
   "execution_count": 4,
   "metadata": {},
   "outputs": [
    {
     "name": "stdout",
     "output_type": "stream",
     "text": [
      "123\n"
     ]
    }
   ],
   "source": [
    "sumition = 0\n",
    "dic = {0:44,1:\"sameer\",2: 45,3:\"khan\",4:34}\n",
    "for i in dic.values():\n",
    "    #print(i)\n",
    "    if type(i) == int:\n",
    "        sumition += i\n",
    "print(sumition)"
   ]
  },
  {
   "cell_type": "markdown",
   "metadata": {},
   "source": [
    "5.Write a program to identify duplicate values from list"
   ]
  },
  {
   "cell_type": "code",
   "execution_count": 5,
   "metadata": {},
   "outputs": [
    {
     "name": "stdout",
     "output_type": "stream",
     "text": [
      "('Duplicated', 1)\n",
      "('Duplicated', 1)\n",
      "('Duplicated', 0.4)\n",
      "('Duplicated', 0.4)\n",
      "('not Duplicated', 2)\n",
      "('not Duplicated', 3)\n",
      "('Duplicated', 4)\n",
      "('Duplicated', 4)\n",
      "('not Duplicated', 5)\n",
      "('not Duplicated', 6)\n"
     ]
    }
   ],
   "source": [
    "lst = [ 1, 1, 0.4, 0.4, 2, 3,4, 4, 5, 6]\n",
    "for i in lst:\n",
    "    if  lst.count(i) > 1:\n",
    "        print(\"Duplicated\",i)\n",
    "    if  lst.count(i) == 1:\n",
    "        print(\"not Duplicated\",i)\n",
    "        "
   ]
  },
  {
   "cell_type": "markdown",
   "metadata": {},
   "source": [
    "6.Write a Python script to check if a given key already exists in a dictionary"
   ]
  },
  {
   "cell_type": "code",
   "execution_count": 6,
   "metadata": {},
   "outputs": [
    {
     "name": "stdout",
     "output_type": "stream",
     "text": [
      "enter key2\n",
      "(2, 'is Already exists')\n"
     ]
    }
   ],
   "source": [
    "dic = { 1: \"test1\",\n",
    "            2: \"test2\",\n",
    "            3: \"test3\"}\n",
    "\n",
    "\n",
    "key = int(input(\"enter key\"))\n",
    "for i in dic.keys():\n",
    "    if i == key:\n",
    "        print(key,\"is Already exists\")\n",
    "    "
   ]
  }
 ],
 "metadata": {
  "kernelspec": {
   "display_name": "Python 2",
   "language": "python",
   "name": "python2"
  },
  "language_info": {
   "codemirror_mode": {
    "name": "ipython",
    "version": 2
   },
   "file_extension": ".py",
   "mimetype": "text/x-python",
   "name": "python",
   "nbconvert_exporter": "python",
   "pygments_lexer": "ipython2",
   "version": "2.7.16"
  }
 },
 "nbformat": 4,
 "nbformat_minor": 2
}
