{
 "cells": [
  {
   "cell_type": "markdown",
   "metadata": {},
   "source": [
    "Question1:\n",
    "Use a dictionary to store information about a person you know. Store their first name, last name, age,\n",
    "and the city in which they live. You should have keys such as first_name, last_name, age, and city. Print\n",
    "each piece of information stored in your dictionary. Add a new key value pair about qualification then\n",
    "update the qualification value to high academic level then delete it.\n",
    "\n",
    "\n",
    "\n"
   ]
  },
  {
   "cell_type": "code",
   "execution_count": 1,
   "metadata": {},
   "outputs": [
    {
     "name": "stdout",
     "output_type": "stream",
     "text": [
      "{'city': 'karachi', 'first_name': 'sameer', 'last_name': 'khan', 'age': '20'}\n"
     ]
    }
   ],
   "source": [
    "dic = {\"first_name\": \"sameer\",\"last_name\":\"khan\",\"age\":\"20\",\"city\":\"karachi\"}\n",
    "#print(dic)\n",
    "dic[\"qualification\"] = \"matric\"\n",
    "#print(dic)\n",
    "dic[\"qualification\"] = \"intermediate\"\n",
    "\n",
    "del(dic[\"qualification\"])\n",
    "print(dic)"
   ]
  },
  {
   "cell_type": "markdown",
   "metadata": {},
   "source": [
    "Question2:\n",
    "Make a dictionary called cities. Use the names of three cities as keys in your dictionary. Create a\n",
    "dictionary of information about each city and include the country that the city is in, its approximate\n",
    "population, and one fact about that city. The keys for each city’s dictionary should be something like\n",
    "country, population, and fact. Print the name of each city and all of the information you have stored\n",
    "about it."
   ]
  },
  {
   "cell_type": "code",
   "execution_count": 2,
   "metadata": {},
   "outputs": [
    {
     "name": "stdout",
     "output_type": "stream",
     "text": [
      "name:  Karachi\n",
      "Country:  Karachi belongs to PAKISTAN\n",
      "population:  The current population of Karachi in 2019 is 15,741,000, a 2.21% increase from 2018.\n",
      "fact:  Second Tallest Mountain In The World\n",
      "\n",
      "\n",
      "name:  Ankara\n",
      "Country:  Ankara belongs to TURKEY\n",
      "population:  the population of Ankara in the year 2019 is expected to be 5.024 Million\n",
      "fact:  The world’s tallest man alive is part-time Turkish farmer Sultan Kösen\n",
      "\n",
      "\n",
      "name:  Melbourne\n",
      "Country:  Melbourne belongs to Australia\n",
      "population:  The current population of Melbourne is 4.8 million\n",
      "fact:  Melbourne has the highest number of cafes and restaurants per number of people than any other city in the world.\n",
      "\n",
      "\n"
     ]
    }
   ],
   "source": [
    "cities =[\"Karachi\",\n",
    "               \"Ankara\",\n",
    "               \"Melbourne\"]\n",
    "information = {\n",
    "    \n",
    "    \"country\":[\"Karachi belongs to PAKISTAN\",\n",
    "               \"Ankara belongs to TURKEY\", \n",
    "               \"Melbourne belongs to Australia\"],\n",
    "    \"population\":[\"The current population of Karachi in 2019 is 15,741,000, a 2.21% increase from 2018.\",\n",
    "                 \"the population of Ankara in the year 2019 is expected to be 5.024 Million\",\n",
    "                 \"The current population of Melbourne is 4.8 million\"],\n",
    "    \"fact\":[\"Second Tallest Mountain In The World\",\n",
    "                 \"The world’s tallest man alive is part-time Turkish farmer Sultan Kösen\",\n",
    "                 \"Melbourne has the highest number of cafes and restaurants per number of people than any other city in the world.\"]}\n",
    "\n",
    "for i in range(3):\n",
    "    print(\"name:\"+\" \"*2 + cities[i])\n",
    "    print(\"Country:\"+\" \"*2 +information[\"country\"][i])\n",
    "    print(\"population:\"+\" \"*2 +information[\"population\"][i])\n",
    "    print(\"fact:\"+\" \"*2 +information[\"fact\"][i])\n",
    "    print(\"\\n\")"
   ]
  },
  {
   "cell_type": "markdown",
   "metadata": {},
   "source": [
    "Question3:\n",
    "A movie theater charges different ticket prices depending on a person’s age. If a person is under the age\n",
    "of 3, the ticket is free; if they are between 3 and 12, the ticket is $ 10; and if they are over age 12, the\n",
    "ticket is $15. Write a loop in which you ask users their age, and then tell them the cost of their movie\n",
    "ticket."
   ]
  },
  {
   "cell_type": "code",
   "execution_count": 3,
   "metadata": {},
   "outputs": [
    {
     "name": "stdout",
     "output_type": "stream",
     "text": [
      "these are the ages . whose able to perchase tickets\n",
      "('YOUR AGE IS', 1)\n",
      "('YOUR AGE IS', 2)\n",
      "('YOUR AGE IS', 3)\n",
      "('YOUR AGE IS', 4)\n",
      "('YOUR AGE IS', 5)\n",
      "('YOUR AGE IS', 6)\n",
      "('YOUR AGE IS', 7)\n",
      "('YOUR AGE IS', 8)\n",
      "('YOUR AGE IS', 9)\n",
      "('YOUR AGE IS', 10)\n",
      "('YOUR AGE IS', 11)\n",
      "('YOUR AGE IS', 12)\n",
      "please confirm your age7\n",
      "7\n",
      "THE CHARGES OF TICKET ACCORDING TO YOUR AGE IS 10 DOLLARS\n"
     ]
    }
   ],
   "source": [
    "print(\"these are the ages . whose able to perchase tickets\")\n",
    "for i in range(1,13):\n",
    "    print(\"YOUR AGE IS\",i)\n",
    "age = int(input(\"please confirm your age\"))\n",
    "print(age)\n",
    "if age <3:\n",
    "    print(\"NO NEED TO PURCHASE TICKET BUDDY.TICKET IS FREE FOR YOU\")\n",
    "elif age == 3 or age <12 :\n",
    "    print(\"THE CHARGES OF TICKET ACCORDING TO YOUR AGE IS 10 DOLLARS\")\n",
    "elif age >=12 :\n",
    "    print(\"THE CHARGES OF TICKET ACCORDING TO YOUR AGE IS 15 DOLLARS\")\n"
   ]
  },
  {
   "cell_type": "markdown",
   "metadata": {},
   "source": [
    "Question4:\n",
    "Write a function called favorite_book() that accepts one parameter, title. The function should print a\n",
    "message, such as One of my favorite books is Alice in Wonderland. Call the function, making sure to\n",
    "include a book title as an argument in the function call."
   ]
  },
  {
   "cell_type": "code",
   "execution_count": 4,
   "metadata": {},
   "outputs": [
    {
     "name": "stdout",
     "output_type": "stream",
     "text": [
      "the rhyme was created not only to nurse children, but also to symbolize and reveal more serious things of the adult world.\n"
     ]
    },
    {
     "data": {
      "text/plain": [
       "'title'"
      ]
     },
     "execution_count": 4,
     "metadata": {},
     "output_type": "execute_result"
    }
   ],
   "source": [
    "def favorite_book(title):\n",
    "    if title == \"twinkle twinkle\":\n",
    "        print(\"it originated as a poem written by the English author Jane Taylor and was published in 1806 as “The Star.”\")\n",
    "    elif title == \"humpty dumpty\":\n",
    "        print(\"the rhyme was created not only to nurse children, but also to symbolize and reveal more serious things of the adult world.\")\n",
    "    elif title == \"Baa Baa Black Sheep\":\n",
    "        print(\"Baa Baa, Black Sheep is the title of a semi-autobiographical short story by Rudyard Kipling, published in 1888\")\n",
    "    else:\n",
    "        print(\"please enter valid poem name\")\n",
    "    return \"title\"\n",
    "\n",
    "\n",
    "\n",
    "\n",
    "favorite_book(\"humpty dumpty\")"
   ]
  },
  {
   "cell_type": "markdown",
   "metadata": {},
   "source": [
    "Question5:\n",
    "Guess the number game\n",
    "Write a program which randomly generate a number between 1 to 30 and ask the user in input field to\n",
    "guess the correct number. Give three chances to user guess the number and also give hint to user if\n",
    "hidden number is greater or smaller than the number he given to input field."
   ]
  },
  {
   "cell_type": "code",
   "execution_count": 5,
   "metadata": {},
   "outputs": [
    {
     "name": "stdout",
     "output_type": "stream",
     "text": [
      "hey....! how are you my friend.\n",
      " listen carefylly.  \n",
      " I will provide series of a  numbers Randomly between 1 to 30\n",
      "then you  select the number according to the condition\n",
      "i will provide 3 chances\n",
      "and also give you a hint\n",
      "BEST OF LUCK AND ENJOY\n",
      "\n",
      "\n",
      "Guess The Missing Number:\n",
      "[1, 5, 10, '?', 18, 22]\n",
      "\n",
      "\n",
      "enter   number:8\n",
      "\n",
      "\n",
      "2 chances left\n",
      "\n",
      "\n",
      "This Number Is Very Small Please Type Much Greater Number\n",
      "('your score is', 0)\n",
      "enter   number:78\n",
      "\n",
      "\n",
      "1 chance left\n",
      "\n",
      "\n",
      "Please Enter The Number Under Range Of 30\n",
      "('your score is', 0)\n",
      "enter   number:14\n",
      "\n",
      "\n",
      "Correct.You Win\n",
      "('your score is', 1)\n"
     ]
    }
   ],
   "source": [
    "print(\"hey....! how are you my friend.\\n listen carefylly.  \\n I will provide series of a  numbers Randomly between 1 to 30\\n\"\n",
    "      \"then you  select the number according to the condition\\n\"\n",
    "      \"i will provide 3 chances\\n\"\n",
    "      \"and also give you a hint\\n\"\n",
    "      \"BEST OF LUCK AND ENJOY\")\n",
    "guess_the_number = {\"question no:1\" : [1,5,10,\"?\",18,22],\n",
    "                     \n",
    "                     \"correct answer is \": 14\n",
    "                        \n",
    "                    }\n",
    "score = 0\n",
    "\n",
    "    \n",
    "print(\"\\n\")                \n",
    "print(\"Guess The Missing Number:\")\n",
    "print(guess_the_number[\"question no:1\"])\n",
    "print(\"\\n\")\n",
    "for i in range(3):\n",
    "    number = int(input(\"enter   number:\"))\n",
    "    \n",
    "    print(\"\\n\")\n",
    "    if i == 0:\n",
    "        print(\"2 chances left\")\n",
    "        print(\"\\n\")\n",
    "    if i == 1:\n",
    "        print(\"1 chance left\")\n",
    "        print(\"\\n\")\n",
    "    if  number <= 10:\n",
    "        print(\"This Number Is Very Small Please Type Much Greater Number\")\n",
    "    elif number >10 and number <14 :\n",
    "        print(\"This Number Is Lil Bit Smaller But very close To The Right Answer \")\n",
    "    elif number == 14:\n",
    "        print(\"Correct.You Win\")\n",
    "        score += 1\n",
    "    elif number >14 and number<20:\n",
    "        print(\"This Number Is Lil Bit greater But very close To The Right Answer\")\n",
    "    elif number >= 20 and number <=30:\n",
    "        print(\"This Number Is Very greater Please Type Much smaller Number\")\n",
    "    else:\n",
    "        print(\"Please Enter The Number Under Range Of 30\")\n",
    "    print(\"your score is\",score)"
   ]
  },
  {
   "cell_type": "code",
   "execution_count": null,
   "metadata": {},
   "outputs": [],
   "source": []
  }
 ],
 "metadata": {
  "kernelspec": {
   "display_name": "Python 2",
   "language": "python",
   "name": "python2"
  },
  "language_info": {
   "codemirror_mode": {
    "name": "ipython",
    "version": 2
   },
   "file_extension": ".py",
   "mimetype": "text/x-python",
   "name": "python",
   "nbconvert_exporter": "python",
   "pygments_lexer": "ipython2",
   "version": "2.7.16"
  }
 },
 "nbformat": 4,
 "nbformat_minor": 2
}
