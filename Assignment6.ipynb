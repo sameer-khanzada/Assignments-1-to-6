{
 "cells": [
  {
   "cell_type": "markdown",
   "metadata": {},
   "source": [
    "Question 1:\n",
    "    \n",
    "Define Object Oriented Programming Language?"
   ]
  },
  {
   "cell_type": "markdown",
   "metadata": {},
   "source": [
    "ANSWER:\n",
    "\n",
    "Object-oriented programming (OOP) is a programming paradigm based on the concept of \"objects\", \n",
    "which can contain data, in the form of fields (often known as attributes or properties), \n",
    "and code, in the form of procedures (often known as methods). "
   ]
  },
  {
   "cell_type": "markdown",
   "metadata": {},
   "source": [
    "Question 2:\n",
    "    \n",
    "List down the Benefits of OOP?"
   ]
  },
  {
   "cell_type": "markdown",
   "metadata": {},
   "source": [
    "ANSWER:\n",
    "    \n",
    "1. Modularity for easier troubleshooting\n",
    "\n",
    "2. Reuse of code through inheritance\n",
    "\n",
    "3. Flexibility through polymorphism\n",
    "\n",
    "4. Effective problem solving"
   ]
  },
  {
   "cell_type": "markdown",
   "metadata": {},
   "source": [
    "Question 3:\n",
    "    \n",
    "Differentiate between function and method?"
   ]
  },
  {
   "cell_type": "markdown",
   "metadata": {},
   "source": [
    "ANSWER:\n",
    "    \n",
    ">A function is a piece of code that is called by name (ANY NAME) \n",
    "\n",
    ">A method is a piece of code that is called by a name that is associated with an object."
   ]
  },
  {
   "cell_type": "markdown",
   "metadata": {},
   "source": [
    "Question 4:\n",
    "    \n",
    "Define the following terms:\n",
    "    \n",
    "1. Class\n",
    "\n",
    "2. Object\n",
    "\n",
    "3. Attribute\n",
    "\n",
    "4. Behavior"
   ]
  },
  {
   "cell_type": "markdown",
   "metadata": {},
   "source": [
    "ANSWER:\n",
    "\n",
    "### CLASS:\n",
    "In object-oriented programming, a class is an extensible program-code-template for creating objects, providing initial values for state (member variables) and implementations of behavior (member functions or methods).\n",
    "### Object:\n",
    "Object is simply a collection of data (variables) and methods (functions) that act on those data. And, class is a blueprint for the object.\n",
    "### Attribute:\n",
    "Attributes are data stored inside a class or instance and represent the state or quality of the class or instance.\n",
    "### Behavior:\n",
    "An object instance is a specific object with its own set of data and behaviors. in other words what type of your class.\n"
   ]
  },
  {
   "cell_type": "markdown",
   "metadata": {},
   "source": [
    "Question 5:\n",
    "    \n",
    "Write a code in python in which create a class named it Car which\n",
    "have 5 attributes such like (model, color and name etc.) and 3\n",
    "methods. And create 5 object instance from that class."
   ]
  },
  {
   "cell_type": "code",
   "execution_count": 11,
   "metadata": {},
   "outputs": [],
   "source": [
    "class Car():\n",
    "    def __init__(self,model,color,name,price,condition):\n",
    "        self.model = model\n",
    "        self.color = color\n",
    "        self.name = name\n",
    "        self.price = price\n",
    "        self.condition = condition\n",
    "        \n",
    "    def updating_model(self, your_model):\n",
    "        self.model = your_model\n",
    "    def updating_color(self, your_color):\n",
    "        self.color = your_color\n",
    "    def updating_price(self, your_price):\n",
    "        self.model = your_price\n",
    "        \n",
    "person1 = Car(2010,\"white\",\"mehran\",7000,\"good\")\n",
    "person2 = Car(2017,\"black\",\"corolla\",270000,\"excellent\")\n",
    "person3 = Car(2009,\"grey\",\"cultus\",10000,\"well\")\n",
    "person4 = Car(2016,\"white\",\"vegnar\",150000,\"good\")\n",
    "person5 = Car(20019,\"black\",\"corollaGLI\",300000,\"excellent\")\n",
    "              \n",
    "person1.updating_model(\"audi\")\n",
    "person2.updating_color(\"white\")\n",
    "person3.updating_price(100000)"
   ]
  },
  {
   "cell_type": "code",
   "execution_count": null,
   "metadata": {},
   "outputs": [],
   "source": []
  }
 ],
 "metadata": {
  "kernelspec": {
   "display_name": "Python 2",
   "language": "python",
   "name": "python2"
  },
  "language_info": {
   "codemirror_mode": {
    "name": "ipython",
    "version": 2
   },
   "file_extension": ".py",
   "mimetype": "text/x-python",
   "name": "python",
   "nbconvert_exporter": "python",
   "pygments_lexer": "ipython2",
   "version": "2.7.16"
  }
 },
 "nbformat": 4,
 "nbformat_minor": 2
}
